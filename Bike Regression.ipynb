{
 "cells": [
  {
   "cell_type": "code",
   "execution_count": 1,
   "id": "23dd0cce-432e-40a1-bb4c-2c1e3307f4ec",
   "metadata": {},
   "outputs": [],
   "source": [
    "import numpy as np\n",
    "import pandas as pd\n",
    "import scipy\n",
    "import seaborn as sns\n",
    "import pylab\n",
    "import statsmodels.api as sm \n",
    "import statsmodels.stats.multicomp\n",
    "from sklearn.model_selection import train_test_split\n",
    "from random import choice\n",
    "from pylab import legend,plot,show,title,xlabel,ylabel\n",
    "from scipy import stats\n",
    "from scipy.stats import binom\n",
    "from scipy.stats import poisson\n",
    "from scipy.stats import norm, t\n",
    "from statsmodels.formula.api import ols\n",
    "from matplotlib import pyplot as plt\n",
    "from collections import Counter\n",
    "from numpy import random\n",
    "from sklearn.metrics import confusion_matrix\n",
    "from sklearn.metrics import classification_report\n",
    "from statsmodels.stats.outliers_influence import variance_inflation_factor\n",
    "from statsmodels import discrete\n",
    "from statsmodels.discrete import discrete_model\n",
    "from statsmodels.discrete.discrete_model import MNLogit\n",
    "from statsmodels.miscmodels.ordinal_model import OrderedModel\n",
    "import statsmodels.formula.api as smf \n",
    "from statsmodels.discrete.discrete_model import Poisson as psn\n",
    "from statsmodels.discrete.discrete_model import NegativeBinomial as ngb\n",
    "from sklearn.preprocessing import MinMaxScaler\n",
    "from sklearn.preprocessing import StandardScaler\n",
    "from sklearn.feature_selection import mutual_info_classif\n",
    "from sklearn.feature_selection import SelectKBest\n",
    "from sklearn.ensemble import ExtraTreesClassifier\n",
    "from statsmodels.stats.multicomp import pairwise_tukeyhsd\n",
    "import os "
   ]
  },
  {
   "cell_type": "code",
   "execution_count": 2,
   "id": "2a8c5adb-5470-4024-b208-4aeb917ae5a5",
   "metadata": {},
   "outputs": [
    {
     "data": {
      "text/plain": [
       "'C:\\\\Users\\\\HP'"
      ]
     },
     "execution_count": 2,
     "metadata": {},
     "output_type": "execute_result"
    }
   ],
   "source": [
    "os.getcwd()"
   ]
  },
  {
   "cell_type": "code",
   "execution_count": 3,
   "id": "4ef489ac-9d36-4f96-ae1a-f701d49af45c",
   "metadata": {},
   "outputs": [],
   "source": [
    "os.chdir(r'D:\\DBDA\\ML\\Bike Assignment')"
   ]
  },
  {
   "cell_type": "code",
   "execution_count": 4,
   "id": "9d8e00ff-a9be-4759-bc11-7276f0fd449a",
   "metadata": {},
   "outputs": [
    {
     "data": {
      "text/html": [
       "<div>\n",
       "<style scoped>\n",
       "    .dataframe tbody tr th:only-of-type {\n",
       "        vertical-align: middle;\n",
       "    }\n",
       "\n",
       "    .dataframe tbody tr th {\n",
       "        vertical-align: top;\n",
       "    }\n",
       "\n",
       "    .dataframe thead th {\n",
       "        text-align: right;\n",
       "    }\n",
       "</style>\n",
       "<table border=\"1\" class=\"dataframe\">\n",
       "  <thead>\n",
       "    <tr style=\"text-align: right;\">\n",
       "      <th></th>\n",
       "      <th>instant</th>\n",
       "      <th>dteday</th>\n",
       "      <th>season</th>\n",
       "      <th>yr</th>\n",
       "      <th>mnth</th>\n",
       "      <th>holiday</th>\n",
       "      <th>weekday</th>\n",
       "      <th>workingday</th>\n",
       "      <th>weathersit</th>\n",
       "      <th>temp</th>\n",
       "      <th>atemp</th>\n",
       "      <th>hum</th>\n",
       "      <th>windspeed</th>\n",
       "      <th>casual</th>\n",
       "      <th>registered</th>\n",
       "      <th>cnt</th>\n",
       "    </tr>\n",
       "  </thead>\n",
       "  <tbody>\n",
       "    <tr>\n",
       "      <th>0</th>\n",
       "      <td>1</td>\n",
       "      <td>2018-01-01 00:00:00</td>\n",
       "      <td>1</td>\n",
       "      <td>0</td>\n",
       "      <td>1</td>\n",
       "      <td>0</td>\n",
       "      <td>1</td>\n",
       "      <td>1</td>\n",
       "      <td>2</td>\n",
       "      <td>14.110847</td>\n",
       "      <td>18.18125</td>\n",
       "      <td>80.5833</td>\n",
       "      <td>10.749882</td>\n",
       "      <td>331</td>\n",
       "      <td>654</td>\n",
       "      <td>985</td>\n",
       "    </tr>\n",
       "    <tr>\n",
       "      <th>1</th>\n",
       "      <td>2</td>\n",
       "      <td>2018-02-01 00:00:00</td>\n",
       "      <td>1</td>\n",
       "      <td>0</td>\n",
       "      <td>1</td>\n",
       "      <td>0</td>\n",
       "      <td>2</td>\n",
       "      <td>1</td>\n",
       "      <td>2</td>\n",
       "      <td>14.902598</td>\n",
       "      <td>17.68695</td>\n",
       "      <td>69.6087</td>\n",
       "      <td>16.652113</td>\n",
       "      <td>131</td>\n",
       "      <td>670</td>\n",
       "      <td>801</td>\n",
       "    </tr>\n",
       "    <tr>\n",
       "      <th>2</th>\n",
       "      <td>3</td>\n",
       "      <td>2018-03-01 00:00:00</td>\n",
       "      <td>1</td>\n",
       "      <td>0</td>\n",
       "      <td>1</td>\n",
       "      <td>0</td>\n",
       "      <td>3</td>\n",
       "      <td>1</td>\n",
       "      <td>1</td>\n",
       "      <td>8.050924</td>\n",
       "      <td>9.47025</td>\n",
       "      <td>43.7273</td>\n",
       "      <td>16.636703</td>\n",
       "      <td>120</td>\n",
       "      <td>1229</td>\n",
       "      <td>1349</td>\n",
       "    </tr>\n",
       "    <tr>\n",
       "      <th>3</th>\n",
       "      <td>4</td>\n",
       "      <td>2018-04-01 00:00:00</td>\n",
       "      <td>1</td>\n",
       "      <td>0</td>\n",
       "      <td>1</td>\n",
       "      <td>0</td>\n",
       "      <td>4</td>\n",
       "      <td>1</td>\n",
       "      <td>1</td>\n",
       "      <td>8.200000</td>\n",
       "      <td>10.60610</td>\n",
       "      <td>59.0435</td>\n",
       "      <td>10.739832</td>\n",
       "      <td>108</td>\n",
       "      <td>1454</td>\n",
       "      <td>1562</td>\n",
       "    </tr>\n",
       "    <tr>\n",
       "      <th>4</th>\n",
       "      <td>5</td>\n",
       "      <td>2018-05-01 00:00:00</td>\n",
       "      <td>1</td>\n",
       "      <td>0</td>\n",
       "      <td>1</td>\n",
       "      <td>0</td>\n",
       "      <td>5</td>\n",
       "      <td>1</td>\n",
       "      <td>1</td>\n",
       "      <td>9.305237</td>\n",
       "      <td>11.46350</td>\n",
       "      <td>43.6957</td>\n",
       "      <td>12.522300</td>\n",
       "      <td>82</td>\n",
       "      <td>1518</td>\n",
       "      <td>1600</td>\n",
       "    </tr>\n",
       "  </tbody>\n",
       "</table>\n",
       "</div>"
      ],
      "text/plain": [
       "   instant               dteday  season  yr  mnth  holiday  weekday  \\\n",
       "0        1  2018-01-01 00:00:00       1   0     1        0        1   \n",
       "1        2  2018-02-01 00:00:00       1   0     1        0        2   \n",
       "2        3  2018-03-01 00:00:00       1   0     1        0        3   \n",
       "3        4  2018-04-01 00:00:00       1   0     1        0        4   \n",
       "4        5  2018-05-01 00:00:00       1   0     1        0        5   \n",
       "\n",
       "   workingday  weathersit       temp     atemp      hum  windspeed  casual  \\\n",
       "0           1           2  14.110847  18.18125  80.5833  10.749882     331   \n",
       "1           1           2  14.902598  17.68695  69.6087  16.652113     131   \n",
       "2           1           1   8.050924   9.47025  43.7273  16.636703     120   \n",
       "3           1           1   8.200000  10.60610  59.0435  10.739832     108   \n",
       "4           1           1   9.305237  11.46350  43.6957  12.522300      82   \n",
       "\n",
       "   registered   cnt  \n",
       "0         654   985  \n",
       "1         670   801  \n",
       "2        1229  1349  \n",
       "3        1454  1562  \n",
       "4        1518  1600  "
      ]
     },
     "execution_count": 4,
     "metadata": {},
     "output_type": "execute_result"
    }
   ],
   "source": [
    "df = pd.read_excel(\"day.xlsx\") \n",
    "df.head()"
   ]
  },
  {
   "cell_type": "code",
   "execution_count": 5,
   "id": "fa8e5ec8-a391-4d23-b957-1f671f43d659",
   "metadata": {},
   "outputs": [],
   "source": [
    "df.drop_duplicates(inplace=True)"
   ]
  },
  {
   "cell_type": "code",
   "execution_count": 6,
   "id": "53aaf890-c444-46b7-bba8-1158b96025a9",
   "metadata": {},
   "outputs": [
    {
     "data": {
      "text/plain": [
       "(730, 16)"
      ]
     },
     "execution_count": 6,
     "metadata": {},
     "output_type": "execute_result"
    }
   ],
   "source": [
    "df.shape"
   ]
  },
  {
   "cell_type": "code",
   "execution_count": 7,
   "id": "de9872ce-395b-417e-9ea3-a662bf791a5d",
   "metadata": {},
   "outputs": [
    {
     "data": {
      "text/plain": [
       "Index(['instant', 'dteday', 'season', 'yr', 'mnth', 'holiday', 'weekday',\n",
       "       'workingday', 'weathersit', 'temp', 'atemp', 'hum', 'windspeed',\n",
       "       'casual', 'registered', 'cnt'],\n",
       "      dtype='object')"
      ]
     },
     "execution_count": 7,
     "metadata": {},
     "output_type": "execute_result"
    }
   ],
   "source": [
    "df.columns"
   ]
  },
  {
   "cell_type": "code",
   "execution_count": 8,
   "id": "dde47995-cdb4-4488-b9ee-5bc49e906d8d",
   "metadata": {},
   "outputs": [
    {
     "name": "stdout",
     "output_type": "stream",
     "text": [
      "<class 'pandas.core.frame.DataFrame'>\n",
      "RangeIndex: 730 entries, 0 to 729\n",
      "Data columns (total 16 columns):\n",
      " #   Column      Non-Null Count  Dtype  \n",
      "---  ------      --------------  -----  \n",
      " 0   instant     730 non-null    int64  \n",
      " 1   dteday      730 non-null    object \n",
      " 2   season      730 non-null    int64  \n",
      " 3   yr          730 non-null    int64  \n",
      " 4   mnth        730 non-null    int64  \n",
      " 5   holiday     730 non-null    int64  \n",
      " 6   weekday     730 non-null    int64  \n",
      " 7   workingday  730 non-null    int64  \n",
      " 8   weathersit  730 non-null    int64  \n",
      " 9   temp        730 non-null    float64\n",
      " 10  atemp       730 non-null    float64\n",
      " 11  hum         730 non-null    float64\n",
      " 12  windspeed   730 non-null    float64\n",
      " 13  casual      730 non-null    int64  \n",
      " 14  registered  730 non-null    int64  \n",
      " 15  cnt         730 non-null    int64  \n",
      "dtypes: float64(4), int64(11), object(1)\n",
      "memory usage: 91.4+ KB\n"
     ]
    }
   ],
   "source": [
    "df.info()"
   ]
  },
  {
   "cell_type": "markdown",
   "id": "a402b468-f48e-4245-9d81-e7442a925b13",
   "metadata": {},
   "source": [
    "There are 16 columns and 730 rows in the dataset.\n",
    "Some columns are categorical in nature (like mnth, season, weekday and weathersit), however, their datatype is int64 which \n",
    "needs to be handled later during the data cleaning process.\n",
    "There are definitely some columns (like instant, dteday, casual, registered) that can be dropped as they are \n",
    "irrelevant/redundant to our analysis and model building."
   ]
  },
  {
   "cell_type": "code",
   "execution_count": 9,
   "id": "0fc2a5fa-6519-4ca8-85ba-88ebe182d70e",
   "metadata": {},
   "outputs": [],
   "source": [
    "df1 = df.drop(['casual','registered','instant','dteday','atemp','cnt'],axis=1)"
   ]
  },
  {
   "cell_type": "code",
   "execution_count": 10,
   "id": "aa0d29b4-98dd-419f-9f45-9af7f40949c9",
   "metadata": {},
   "outputs": [],
   "source": [
    "df = df.drop(['casual','registered','instant','dteday','atemp'],axis=1)"
   ]
  },
  {
   "cell_type": "markdown",
   "id": "6b91b0af-44ec-4089-bd89-fa9a17a93ba3",
   "metadata": {},
   "source": [
    "Eliminated casual and registered as out focus is on total bike count.\n",
    "\n",
    "Dropped instant due to redundancy as it contains indexing numbers.\n",
    "\n",
    "Dropped dteday since month and year provide sufficient data\n",
    "\n",
    "We Dropped count because count is the response variable and it influence all the columns so for checking VIF."
   ]
  },
  {
   "cell_type": "code",
   "execution_count": 11,
   "id": "c087c07d-7c9c-4e68-bb3b-ad3be0f42826",
   "metadata": {},
   "outputs": [
    {
     "name": "stdout",
     "output_type": "stream",
     "text": [
      "     Features        VIF\n",
      "0      season  21.189179\n",
      "1          yr   1.945111\n",
      "2        mnth  15.247968\n",
      "3     holiday   1.100474\n",
      "4     weekday   3.123374\n",
      "5  workingday   3.384889\n",
      "6  weathersit  13.118082\n",
      "7        temp   9.416122\n",
      "8         hum  27.194816\n",
      "9   windspeed   5.302561\n"
     ]
    }
   ],
   "source": [
    "vif = pd.DataFrame()\n",
    "vif['Features'] = df1.columns\n",
    "vif['VIF'] = [variance_inflation_factor(df1.values,i) for i in range(df1.shape[1])]\n",
    "print(vif)"
   ]
  },
  {
   "cell_type": "code",
   "execution_count": 12,
   "id": "4052f835-53b7-481e-a41e-4c7e34a880f0",
   "metadata": {},
   "outputs": [],
   "source": [
    "x = df.drop('cnt',axis=1) \n",
    "y = df.cnt"
   ]
  },
  {
   "cell_type": "code",
   "execution_count": 13,
   "id": "4c1a115b-d7ed-4987-8604-8fe67168cb94",
   "metadata": {},
   "outputs": [
    {
     "name": "stdout",
     "output_type": "stream",
     "text": [
      "[0.08732823 0.9258331  0.02929539 0.         0.39864631 0.98261938\n",
      " 0.79642452 0.09275358 0.         0.1543884 ]\n"
     ]
    }
   ],
   "source": [
    "info_gains = mutual_info_classif(x,y)\n",
    "ig_vals = np.array(info_gains)\n",
    "print(ig_vals)"
   ]
  },
  {
   "cell_type": "code",
   "execution_count": 14,
   "id": "592e8441-29d8-4be9-b0c3-79a4a39958a7",
   "metadata": {},
   "outputs": [
    {
     "name": "stdout",
     "output_type": "stream",
     "text": [
      "Sorted: [5 1 6 4 9 7 0 2 8 3]\n",
      "[0.98261938 0.9258331  0.79642452 0.39864631 0.1543884  0.09275358\n",
      " 0.08732823 0.02929539 0.         0.        ]\n",
      "Column Names ['workingday' 'yr' 'weathersit' 'weekday' 'windspeed' 'temp' 'season'\n",
      " 'mnth' 'hum' 'holiday']\n"
     ]
    }
   ],
   "source": [
    "col_names = np.array(x.columns)\n",
    "ind = np.flip(np.argsort(ig_vals))\n",
    "print(\"Sorted:\",ind)\n",
    "ig_vals = ig_vals[ind]\n",
    "col_names = col_names[ind]\n",
    "print(ig_vals)\n",
    "print(\"Column Names\",col_names)"
   ]
  },
  {
   "cell_type": "code",
   "execution_count": 15,
   "id": "55d2e215-414c-4403-9b3c-95d08fee8219",
   "metadata": {},
   "outputs": [
    {
     "data": {
      "image/png": "[encoded data removed]",
      "text/plain": [
       "<Figure size 640x480 with 1 Axes>"
      ]
     },
     "metadata": {},
     "output_type": "display_data"
    }
   ],
   "source": [
    "plt.bar(col_names,ig_vals)\n",
    "plt.xticks(rotation=90)\n",
    "plt.show()"
   ]
  },
  {
   "cell_type": "code",
   "execution_count": 16,
   "id": "f3402ff1-5193-4a25-a99a-398c92ce7b9b",
   "metadata": {},
   "outputs": [
    {
     "data": {
      "text/html": [
       "<div>\n",
       "<style scoped>\n",
       "    .dataframe tbody tr th:only-of-type {\n",
       "        vertical-align: middle;\n",
       "    }\n",
       "\n",
       "    .dataframe tbody tr th {\n",
       "        vertical-align: top;\n",
       "    }\n",
       "\n",
       "    .dataframe thead th {\n",
       "        text-align: right;\n",
       "    }\n",
       "</style>\n",
       "<table border=\"1\" class=\"dataframe\">\n",
       "  <thead>\n",
       "    <tr style=\"text-align: right;\">\n",
       "      <th></th>\n",
       "      <th>season</th>\n",
       "      <th>yr</th>\n",
       "      <th>mnth</th>\n",
       "      <th>holiday</th>\n",
       "      <th>weekday</th>\n",
       "      <th>workingday</th>\n",
       "      <th>weathersit</th>\n",
       "      <th>temp</th>\n",
       "      <th>hum</th>\n",
       "      <th>windspeed</th>\n",
       "      <th>cnt</th>\n",
       "    </tr>\n",
       "  </thead>\n",
       "  <tbody>\n",
       "    <tr>\n",
       "      <th>0</th>\n",
       "      <td>1</td>\n",
       "      <td>0</td>\n",
       "      <td>1</td>\n",
       "      <td>0</td>\n",
       "      <td>1</td>\n",
       "      <td>1</td>\n",
       "      <td>2</td>\n",
       "      <td>14.110847</td>\n",
       "      <td>80.5833</td>\n",
       "      <td>10.749882</td>\n",
       "      <td>985</td>\n",
       "    </tr>\n",
       "    <tr>\n",
       "      <th>1</th>\n",
       "      <td>1</td>\n",
       "      <td>0</td>\n",
       "      <td>1</td>\n",
       "      <td>0</td>\n",
       "      <td>2</td>\n",
       "      <td>1</td>\n",
       "      <td>2</td>\n",
       "      <td>14.902598</td>\n",
       "      <td>69.6087</td>\n",
       "      <td>16.652113</td>\n",
       "      <td>801</td>\n",
       "    </tr>\n",
       "    <tr>\n",
       "      <th>2</th>\n",
       "      <td>1</td>\n",
       "      <td>0</td>\n",
       "      <td>1</td>\n",
       "      <td>0</td>\n",
       "      <td>3</td>\n",
       "      <td>1</td>\n",
       "      <td>1</td>\n",
       "      <td>8.050924</td>\n",
       "      <td>43.7273</td>\n",
       "      <td>16.636703</td>\n",
       "      <td>1349</td>\n",
       "    </tr>\n",
       "    <tr>\n",
       "      <th>3</th>\n",
       "      <td>1</td>\n",
       "      <td>0</td>\n",
       "      <td>1</td>\n",
       "      <td>0</td>\n",
       "      <td>4</td>\n",
       "      <td>1</td>\n",
       "      <td>1</td>\n",
       "      <td>8.200000</td>\n",
       "      <td>59.0435</td>\n",
       "      <td>10.739832</td>\n",
       "      <td>1562</td>\n",
       "    </tr>\n",
       "    <tr>\n",
       "      <th>4</th>\n",
       "      <td>1</td>\n",
       "      <td>0</td>\n",
       "      <td>1</td>\n",
       "      <td>0</td>\n",
       "      <td>5</td>\n",
       "      <td>1</td>\n",
       "      <td>1</td>\n",
       "      <td>9.305237</td>\n",
       "      <td>43.6957</td>\n",
       "      <td>12.522300</td>\n",
       "      <td>1600</td>\n",
       "    </tr>\n",
       "  </tbody>\n",
       "</table>\n",
       "</div>"
      ],
      "text/plain": [
       "   season  yr  mnth  holiday  weekday  workingday  weathersit       temp  \\\n",
       "0       1   0     1        0        1           1           2  14.110847   \n",
       "1       1   0     1        0        2           1           2  14.902598   \n",
       "2       1   0     1        0        3           1           1   8.050924   \n",
       "3       1   0     1        0        4           1           1   8.200000   \n",
       "4       1   0     1        0        5           1           1   9.305237   \n",
       "\n",
       "       hum  windspeed   cnt  \n",
       "0  80.5833  10.749882   985  \n",
       "1  69.6087  16.652113   801  \n",
       "2  43.7273  16.636703  1349  \n",
       "3  59.0435  10.739832  1562  \n",
       "4  43.6957  12.522300  1600  "
      ]
     },
     "execution_count": 16,
     "metadata": {},
     "output_type": "execute_result"
    }
   ],
   "source": [
    "df.head()"
   ]
  },
  {
   "cell_type": "code",
   "execution_count": 17,
   "id": "79c78c0d-304e-4f9d-b826-e1b38bbca77f",
   "metadata": {},
   "outputs": [
    {
     "data": {
      "text/plain": [
       "weathersit\n",
       "1    463\n",
       "2    246\n",
       "3     21\n",
       "Name: count, dtype: int64"
      ]
     },
     "execution_count": 17,
     "metadata": {},
     "output_type": "execute_result"
    }
   ],
   "source": [
    "df['weathersit'].value_counts(ascending=False)"
   ]
  },
  {
   "cell_type": "markdown",
   "id": "48228712-8551-4ae2-aa3e-91f1194b46d8",
   "metadata": {},
   "source": [
    "1.  Clear, Few clouds, Partly cloudy, Partly cloudy are mapped as Good\n",
    "2.  Mist + Cloudy, Mist + Broken clouds, Mist + Few clouds, Mist are mapped as Moderate\n",
    "3.  Light Snow, Light Rain + Thunderstorm + Scattered clouds, Light Rain + Scattered clouds are mapped as Bad\n"
   ]
  },
  {
   "cell_type": "code",
   "execution_count": 18,
   "id": "2c42e28d-f027-4230-9a62-64cfc1d2bea1",
   "metadata": {},
   "outputs": [
    {
     "data": {
      "text/html": [
       "<div>\n",
       "<style scoped>\n",
       "    .dataframe tbody tr th:only-of-type {\n",
       "        vertical-align: middle;\n",
       "    }\n",
       "\n",
       "    .dataframe tbody tr th {\n",
       "        vertical-align: top;\n",
       "    }\n",
       "\n",
       "    .dataframe thead th {\n",
       "        text-align: right;\n",
       "    }\n",
       "</style>\n",
       "<table border=\"1\" class=\"dataframe\">\n",
       "  <thead>\n",
       "    <tr style=\"text-align: right;\">\n",
       "      <th></th>\n",
       "      <th>season</th>\n",
       "      <th>yr</th>\n",
       "      <th>mnth</th>\n",
       "      <th>holiday</th>\n",
       "      <th>weekday</th>\n",
       "      <th>workingday</th>\n",
       "      <th>weathersit</th>\n",
       "      <th>temp</th>\n",
       "      <th>hum</th>\n",
       "      <th>windspeed</th>\n",
       "      <th>cnt</th>\n",
       "    </tr>\n",
       "  </thead>\n",
       "  <tbody>\n",
       "    <tr>\n",
       "      <th>season</th>\n",
       "      <td>1.000000e+00</td>\n",
       "      <td>-3.279074e-16</td>\n",
       "      <td>8.310321e-01</td>\n",
       "      <td>-0.010868</td>\n",
       "      <td>0.004012</td>\n",
       "      <td>0.017868</td>\n",
       "      <td>0.021306</td>\n",
       "      <td>0.333361</td>\n",
       "      <td>0.208220</td>\n",
       "      <td>-0.229607</td>\n",
       "      <td>0.404584</td>\n",
       "    </tr>\n",
       "    <tr>\n",
       "      <th>yr</th>\n",
       "      <td>-3.279074e-16</td>\n",
       "      <td>1.000000e+00</td>\n",
       "      <td>-5.162656e-16</td>\n",
       "      <td>0.008195</td>\n",
       "      <td>0.000685</td>\n",
       "      <td>-0.011852</td>\n",
       "      <td>-0.050322</td>\n",
       "      <td>0.048789</td>\n",
       "      <td>-0.112547</td>\n",
       "      <td>-0.011624</td>\n",
       "      <td>0.569728</td>\n",
       "    </tr>\n",
       "    <tr>\n",
       "      <th>mnth</th>\n",
       "      <td>8.310321e-01</td>\n",
       "      <td>-5.162656e-16</td>\n",
       "      <td>1.000000e+00</td>\n",
       "      <td>0.018905</td>\n",
       "      <td>-0.004059</td>\n",
       "      <td>-0.010414</td>\n",
       "      <td>0.045613</td>\n",
       "      <td>0.219083</td>\n",
       "      <td>0.224937</td>\n",
       "      <td>-0.208013</td>\n",
       "      <td>0.278191</td>\n",
       "    </tr>\n",
       "    <tr>\n",
       "      <th>holiday</th>\n",
       "      <td>-1.086804e-02</td>\n",
       "      <td>8.195345e-03</td>\n",
       "      <td>1.890483e-02</td>\n",
       "      <td>1.000000</td>\n",
       "      <td>-0.020145</td>\n",
       "      <td>-0.257009</td>\n",
       "      <td>-0.034395</td>\n",
       "      <td>-0.028764</td>\n",
       "      <td>-0.015662</td>\n",
       "      <td>0.006257</td>\n",
       "      <td>-0.068764</td>\n",
       "    </tr>\n",
       "    <tr>\n",
       "      <th>weekday</th>\n",
       "      <td>4.012478e-03</td>\n",
       "      <td>6.852851e-04</td>\n",
       "      <td>-4.059002e-03</td>\n",
       "      <td>-0.020145</td>\n",
       "      <td>1.000000</td>\n",
       "      <td>0.001588</td>\n",
       "      <td>0.034216</td>\n",
       "      <td>0.044876</td>\n",
       "      <td>0.008780</td>\n",
       "      <td>-0.017230</td>\n",
       "      <td>0.036183</td>\n",
       "    </tr>\n",
       "    <tr>\n",
       "      <th>workingday</th>\n",
       "      <td>1.786841e-02</td>\n",
       "      <td>-1.185197e-02</td>\n",
       "      <td>-1.041372e-02</td>\n",
       "      <td>-0.257009</td>\n",
       "      <td>0.001588</td>\n",
       "      <td>1.000000</td>\n",
       "      <td>-0.026332</td>\n",
       "      <td>0.002044</td>\n",
       "      <td>0.053770</td>\n",
       "      <td>-0.002453</td>\n",
       "      <td>-0.027640</td>\n",
       "    </tr>\n",
       "    <tr>\n",
       "      <th>weathersit</th>\n",
       "      <td>2.130636e-02</td>\n",
       "      <td>-5.032247e-02</td>\n",
       "      <td>4.561335e-02</td>\n",
       "      <td>-0.034395</td>\n",
       "      <td>0.034216</td>\n",
       "      <td>-0.026332</td>\n",
       "      <td>1.000000</td>\n",
       "      <td>-0.119503</td>\n",
       "      <td>0.590277</td>\n",
       "      <td>0.039769</td>\n",
       "      <td>-0.295929</td>\n",
       "    </tr>\n",
       "    <tr>\n",
       "      <th>temp</th>\n",
       "      <td>3.333607e-01</td>\n",
       "      <td>4.878919e-02</td>\n",
       "      <td>2.190833e-01</td>\n",
       "      <td>-0.028764</td>\n",
       "      <td>0.044876</td>\n",
       "      <td>0.002044</td>\n",
       "      <td>-0.119503</td>\n",
       "      <td>1.000000</td>\n",
       "      <td>0.128565</td>\n",
       "      <td>-0.158186</td>\n",
       "      <td>0.627044</td>\n",
       "    </tr>\n",
       "    <tr>\n",
       "      <th>hum</th>\n",
       "      <td>2.082196e-01</td>\n",
       "      <td>-1.125471e-01</td>\n",
       "      <td>2.249368e-01</td>\n",
       "      <td>-0.015662</td>\n",
       "      <td>0.008780</td>\n",
       "      <td>0.053770</td>\n",
       "      <td>0.590277</td>\n",
       "      <td>0.128565</td>\n",
       "      <td>1.000000</td>\n",
       "      <td>-0.248506</td>\n",
       "      <td>-0.098543</td>\n",
       "    </tr>\n",
       "    <tr>\n",
       "      <th>windspeed</th>\n",
       "      <td>-2.296069e-01</td>\n",
       "      <td>-1.162435e-02</td>\n",
       "      <td>-2.080131e-01</td>\n",
       "      <td>0.006257</td>\n",
       "      <td>-0.017230</td>\n",
       "      <td>-0.002453</td>\n",
       "      <td>0.039769</td>\n",
       "      <td>-0.158186</td>\n",
       "      <td>-0.248506</td>\n",
       "      <td>1.000000</td>\n",
       "      <td>-0.235132</td>\n",
       "    </tr>\n",
       "    <tr>\n",
       "      <th>cnt</th>\n",
       "      <td>4.045838e-01</td>\n",
       "      <td>5.697285e-01</td>\n",
       "      <td>2.781909e-01</td>\n",
       "      <td>-0.068764</td>\n",
       "      <td>0.036183</td>\n",
       "      <td>-0.027640</td>\n",
       "      <td>-0.295929</td>\n",
       "      <td>0.627044</td>\n",
       "      <td>-0.098543</td>\n",
       "      <td>-0.235132</td>\n",
       "      <td>1.000000</td>\n",
       "    </tr>\n",
       "  </tbody>\n",
       "</table>\n",
       "</div>"
      ],
      "text/plain": [
       "                  season            yr          mnth   holiday   weekday  \\\n",
       "season      1.000000e+00 -3.279074e-16  8.310321e-01 -0.010868  0.004012   \n",
       "yr         -3.279074e-16  1.000000e+00 -5.162656e-16  0.008195  0.000685   \n",
       "mnth        8.310321e-01 -5.162656e-16  1.000000e+00  0.018905 -0.004059   \n",
       "holiday    -1.086804e-02  8.195345e-03  1.890483e-02  1.000000 -0.020145   \n",
       "weekday     4.012478e-03  6.852851e-04 -4.059002e-03 -0.020145  1.000000   \n",
       "workingday  1.786841e-02 -1.185197e-02 -1.041372e-02 -0.257009  0.001588   \n",
       "weathersit  2.130636e-02 -5.032247e-02  4.561335e-02 -0.034395  0.034216   \n",
       "temp        3.333607e-01  4.878919e-02  2.190833e-01 -0.028764  0.044876   \n",
       "hum         2.082196e-01 -1.125471e-01  2.249368e-01 -0.015662  0.008780   \n",
       "windspeed  -2.296069e-01 -1.162435e-02 -2.080131e-01  0.006257 -0.017230   \n",
       "cnt         4.045838e-01  5.697285e-01  2.781909e-01 -0.068764  0.036183   \n",
       "\n",
       "            workingday  weathersit      temp       hum  windspeed       cnt  \n",
       "season        0.017868    0.021306  0.333361  0.208220  -0.229607  0.404584  \n",
       "yr           -0.011852   -0.050322  0.048789 -0.112547  -0.011624  0.569728  \n",
       "mnth         -0.010414    0.045613  0.219083  0.224937  -0.208013  0.278191  \n",
       "holiday      -0.257009   -0.034395 -0.028764 -0.015662   0.006257 -0.068764  \n",
       "weekday       0.001588    0.034216  0.044876  0.008780  -0.017230  0.036183  \n",
       "workingday    1.000000   -0.026332  0.002044  0.053770  -0.002453 -0.027640  \n",
       "weathersit   -0.026332    1.000000 -0.119503  0.590277   0.039769 -0.295929  \n",
       "temp          0.002044   -0.119503  1.000000  0.128565  -0.158186  0.627044  \n",
       "hum           0.053770    0.590277  0.128565  1.000000  -0.248506 -0.098543  \n",
       "windspeed    -0.002453    0.039769 -0.158186 -0.248506   1.000000 -0.235132  \n",
       "cnt          -0.027640   -0.295929  0.627044 -0.098543  -0.235132  1.000000  "
      ]
     },
     "execution_count": 18,
     "metadata": {},
     "output_type": "execute_result"
    }
   ],
   "source": [
    "df.corr()"
   ]
  },
  {
   "cell_type": "code",
   "execution_count": 19,
   "id": "9222fdf3-1d03-413c-8d73-defce7dc2575",
   "metadata": {},
   "outputs": [
    {
     "data": {
      "text/plain": [
       "<Axes: >"
      ]
     },
     "execution_count": 19,
     "metadata": {},
     "output_type": "execute_result"
    },
    {
     "data": {
      "image/png": "[encoded data removed]",
      "text/plain": [
       "<Figure size 1000x800 with 2 Axes>"
      ]
     },
     "metadata": {},
     "output_type": "display_data"
    }
   ],
   "source": [
    "plt.figure(figsize=(10,8))\n",
    "sns.heatmap(df.corr(),annot=True,cmap='pink')"
   ]
  },
  {
   "cell_type": "markdown",
   "id": "d7ceb10c-f8a7-4c98-b4c6-489036ae278b",
   "metadata": {},
   "source": [
    "The correlation of temp and year are more closely correlated with cnt which is our response variable.\n",
    "\n",
    "The correlation of windspeed and humidity is very less with cnt which is our response variable so we can eliminate these columns."
   ]
  },
  {
   "cell_type": "markdown",
   "id": "77f1f39c-cb37-4708-a513-9c08c573dd1c",
   "metadata": {},
   "source": [
    "# Checking Categorical Data with boxplots"
   ]
  },
  {
   "cell_type": "code",
   "execution_count": 20,
   "id": "8394dbf2-7030-4f52-b93d-34fc634f12d9",
   "metadata": {},
   "outputs": [
    {
     "name": "stderr",
     "output_type": "stream",
     "text": [
      "C:\\Users\\HP\\AppData\\Local\\Temp\\ipykernel_9848\\783734990.py:4: FutureWarning: \n",
      "\n",
      "Passing `palette` without assigning `hue` is deprecated and will be removed in v0.14.0. Assign the `x` variable to `hue` and set `legend=False` for the same effect.\n",
      "\n",
      "  sns.boxplot(y=df.cnt,x=df.season,palette='vlag')\n",
      "C:\\Users\\HP\\AppData\\Local\\Temp\\ipykernel_9848\\783734990.py:7: FutureWarning: \n",
      "\n",
      "Passing `palette` without assigning `hue` is deprecated and will be removed in v0.14.0. Assign the `x` variable to `hue` and set `legend=False` for the same effect.\n",
      "\n",
      "  sns.boxplot(y=df.cnt,x=df.weathersit,palette='vlag')\n",
      "C:\\Users\\HP\\AppData\\Local\\Temp\\ipykernel_9848\\783734990.py:10: FutureWarning: \n",
      "\n",
      "Passing `palette` without assigning `hue` is deprecated and will be removed in v0.14.0. Assign the `x` variable to `hue` and set `legend=False` for the same effect.\n",
      "\n",
      "  sns.boxplot(y=df.cnt,x=df.yr,palette='vlag')\n"
     ]
    },
    {
     "data": {
      "text/plain": [
       "<Axes: xlabel='yr', ylabel='cnt'>"
      ]
     },
     "execution_count": 20,
     "metadata": {},
     "output_type": "execute_result"
    },
    {
     "data": {
      "image/png": "[encoded data removed]",
      "text/plain": [
       "<Figure size 1500x300 with 3 Axes>"
      ]
     },
     "metadata": {},
     "output_type": "display_data"
    }
   ],
   "source": [
    "plt.figure(figsize=(15,3))\n",
    "\n",
    "plt.subplot(1,3,1)\n",
    "sns.boxplot(y=df.cnt,x=df.season,palette='vlag')\n",
    "\n",
    "plt.subplot(1,3,2)\n",
    "sns.boxplot(y=df.cnt,x=df.weathersit,palette='vlag')\n",
    "\n",
    "plt.subplot(1,3,3)\n",
    "sns.boxplot(y=df.cnt,x=df.yr,palette='vlag')"
   ]
  },
  {
   "cell_type": "markdown",
   "id": "2dffe775-380b-4dd4-91f4-02f35fee3a59",
   "metadata": {},
   "source": [
    "- season : season (1:spring, 2:summer, 3:fall, 4:winter)\n",
    "- yr : year (0: 2018, 1:2019)\n",
    "- mnth : month ( 1 to 12)"
   ]
  },
  {
   "cell_type": "markdown",
   "id": "7b0b8b96-0863-42f2-b424-eb2dc2c90199",
   "metadata": {},
   "source": [
    "- Season vs. Count (cnt):\n",
    "\n",
    "The cnt (bike rental count) varies by season.\n",
    "Spring (1): Lowest median bike rental count. This could be attributed to less favorable weather conditions or transitional periods.\n",
    "\n",
    "Summer (2) and Fall (3): Higher median bike rental counts, indicating these seasons are more popular for bike rentals, possibly due to favorable weather and outdoor activities.\n",
    "\n",
    "Winter (4): Slightly lower rentals than summer and fall but still significant. This suggests biking is fairly consistent even in colder weather.\n",
    "\n",
    "- Weathersit vs. Count (cnt):\n",
    "\n",
    "Weather significantly impacts bike rentals.\n",
    "\n",
    "Clear/Partly Cloudy (1): Highest median rentals, showing that clear weather promotes biking.\n",
    "\n",
    "Mist/Cloudy (2): Moderate bike rentals, indicating weather conditions are less ideal but not entirely deterrent.\n",
    "\n",
    "Adverse Weather (3): Lowest rentals, which is expected as light snow, rain, or thunderstorms are not conducive to biking.\n",
    "\n",
    "- Year (yr) vs. Count (cnt):\n",
    "\n",
    "Bike rentals increased significantly from 2018 (yr = 0) to 2019 (yr = 1)."
   ]
  },
  {
   "cell_type": "markdown",
   "id": "b0455f7f-1521-4b6a-b041-6a5d3a3fbbab",
   "metadata": {},
   "source": [
    "- Seasonality:\n",
    "\n",
    "Bike rental services could target marketing campaigns during the summer and fall seasons to maximize usage.\n",
    "Spring could be a focus for promotions or discounts to encourage rentals during this period.\n",
    "\n",
    "- Weather Conditions:\n",
    "\n",
    "Rental services could consider flexible pricing or incentivized policies during adverse weather (e.g., light snow or rain) to boost usage.\n",
    "Clear weather days should be leveraged with increased availability of bikes.\n",
    "\n",
    "- Yearly Growth:\n",
    "\n",
    "The significant increase in rentals from 2018 to 2019 suggests that efforts to grow the service have been successful. Continuous monitoring of trends could help identify further growth opportunities."
   ]
  },
  {
   "cell_type": "markdown",
   "id": "5f539b9a-1f09-4c96-9fba-5c7d49a0e843",
   "metadata": {},
   "source": [
    "# Season -> Anova Test to check whether that column has any effects on response cnt"
   ]
  },
  {
   "cell_type": "code",
   "execution_count": 21,
   "id": "f0a05448-1863-455e-a9fa-44c59d1c5edc",
   "metadata": {},
   "outputs": [],
   "source": [
    "mod1 = ols('cnt ~ season' ,data=df).fit()"
   ]
  },
  {
   "cell_type": "code",
   "execution_count": 22,
   "id": "3ce80699-b691-4a29-b601-dae374e105a7",
   "metadata": {},
   "outputs": [],
   "source": [
    "tb1 = sm.stats.anova_lm(mod1)"
   ]
  },
  {
   "cell_type": "code",
   "execution_count": 23,
   "id": "b5276cb7-6fb0-458e-9a13-795b2c684380",
   "metadata": {},
   "outputs": [
    {
     "name": "stdout",
     "output_type": "stream",
     "text": [
      "             df        sum_sq       mean_sq           F        PR(>F)\n",
      "season      1.0  4.472604e+08  4.472604e+08  142.488566  4.006755e-30\n",
      "Residual  728.0  2.285135e+09  3.138921e+06         NaN           NaN\n"
     ]
    }
   ],
   "source": [
    "print(tb1)"
   ]
  },
  {
   "cell_type": "markdown",
   "id": "a1e03d8d-4abd-45dd-b8e3-56057d680e2a",
   "metadata": {},
   "source": [
    "Since the pvalue < 0.05 The column season significantly influences the response column cnt."
   ]
  },
  {
   "cell_type": "markdown",
   "id": "dc73dd32-85a9-4b0e-affb-1154786f0870",
   "metadata": {},
   "source": [
    "# Yr -> Anova Test to check whether that column has any effects on response cnt"
   ]
  },
  {
   "cell_type": "code",
   "execution_count": 24,
   "id": "0883769a-5e54-4544-991c-c3933a28ff0e",
   "metadata": {},
   "outputs": [],
   "source": [
    "mod1 = ols('cnt ~ yr' ,data=df).fit()"
   ]
  },
  {
   "cell_type": "code",
   "execution_count": 25,
   "id": "60700e9a-042a-40b3-bf01-2bf672bbf418",
   "metadata": {},
   "outputs": [],
   "source": [
    "tb1 = sm.stats.anova_lm(mod1)"
   ]
  },
  {
   "cell_type": "code",
   "execution_count": 26,
   "id": "961df377-11c2-4165-8cea-357a5fc77150",
   "metadata": {},
   "outputs": [
    {
     "name": "stdout",
     "output_type": "stream",
     "text": [
      "             df        sum_sq       mean_sq           F        PR(>F)\n",
      "yr          1.0  8.869095e+08  8.869095e+08  349.864652  4.745374e-64\n",
      "Residual  728.0  1.845485e+09  2.535007e+06         NaN           NaN\n"
     ]
    }
   ],
   "source": [
    "print(tb1)"
   ]
  },
  {
   "cell_type": "markdown",
   "id": "9b2a14d6-3f7a-4932-ad15-332861ed1450",
   "metadata": {},
   "source": [
    "Since the pvalue < 0.05 The column yr significantly influences the response column cnt.But since this column has only two values in years 0:2018,1:2019 so we can ignore this column."
   ]
  },
  {
   "cell_type": "markdown",
   "id": "b9385733-b6d4-4843-b722-13954450acdd",
   "metadata": {},
   "source": [
    " # Weathersit -> Anova Test to check whether that column has any effects on response cnt"
   ]
  },
  {
   "cell_type": "code",
   "execution_count": 27,
   "id": "1626e7ff-c984-4c75-9158-7ec0cd6b752c",
   "metadata": {},
   "outputs": [],
   "source": [
    "mod1 = ols('cnt ~ weathersit' ,data=df).fit()"
   ]
  },
  {
   "cell_type": "code",
   "execution_count": 28,
   "id": "e0070510-614b-4c7c-84d9-db4b3d37d0bb",
   "metadata": {},
   "outputs": [],
   "source": [
    "tb1 = sm.stats.anova_lm(mod1)"
   ]
  },
  {
   "cell_type": "code",
   "execution_count": 29,
   "id": "2f0a574d-7377-4517-807c-d1ac49761b3d",
   "metadata": {},
   "outputs": [
    {
     "name": "stdout",
     "output_type": "stream",
     "text": [
      "               df        sum_sq       mean_sq          F        PR(>F)\n",
      "weathersit    1.0  2.392861e+08  2.392861e+08  69.872704  3.202838e-16\n",
      "Residual    728.0  2.493109e+09  3.424600e+06        NaN           NaN\n"
     ]
    }
   ],
   "source": [
    "print(tb1)"
   ]
  },
  {
   "cell_type": "markdown",
   "id": "d63c196b-3244-4f48-aedd-740af3283935",
   "metadata": {},
   "source": [
    "Since the pvalue < 0.05 The column weathersit significantly influences the response column cnt."
   ]
  },
  {
   "cell_type": "code",
   "execution_count": 30,
   "id": "fd1e27f8-be59-46b6-b23d-877e0b2d684f",
   "metadata": {},
   "outputs": [
    {
     "name": "stderr",
     "output_type": "stream",
     "text": [
      "C:\\Users\\HP\\AppData\\Local\\Temp\\ipykernel_9848\\3504765458.py:1: FutureWarning: \n",
      "\n",
      "Passing `palette` without assigning `hue` is deprecated and will be removed in v0.14.0. Assign the `x` variable to `hue` and set `legend=False` for the same effect.\n",
      "\n",
      "  sns.boxplot(y=df.cnt,x=df.weekday,palette='pink')\n"
     ]
    },
    {
     "data": {
      "text/plain": [
       "<Axes: xlabel='weekday', ylabel='cnt'>"
      ]
     },
     "execution_count": 30,
     "metadata": {},
     "output_type": "execute_result"
    },
    {
     "data": {
      "image/png": "[encoded data removed]",
      "text/plain": [
       "<Figure size 640x480 with 1 Axes>"
      ]
     },
     "metadata": {},
     "output_type": "display_data"
    }
   ],
   "source": [
    "sns.boxplot(y=df.cnt,x=df.weekday,palette='pink')"
   ]
  },
  {
   "cell_type": "markdown",
   "id": "1d479935-f2d8-4017-8516-3ac8462b39e6",
   "metadata": {},
   "source": [
    "# Weekday -> Anova Test to check whether that column has any effects on response cnt"
   ]
  },
  {
   "cell_type": "code",
   "execution_count": 31,
   "id": "b732ccb8-9ceb-4363-aedf-485fec3bc1b6",
   "metadata": {},
   "outputs": [],
   "source": [
    "mod1 = ols('cnt ~ weekday' ,data=df).fit()"
   ]
  },
  {
   "cell_type": "code",
   "execution_count": 32,
   "id": "fef3b93c-85c3-4a84-a989-e75eeaa918d8",
   "metadata": {},
   "outputs": [],
   "source": [
    "tb1 = sm.stats.anova_lm(mod1)"
   ]
  },
  {
   "cell_type": "code",
   "execution_count": 33,
   "id": "89aee88c-e223-4fd9-89f4-ffdd9c1bf131",
   "metadata": {},
   "outputs": [
    {
     "name": "stdout",
     "output_type": "stream",
     "text": [
      "             df        sum_sq       mean_sq         F    PR(>F)\n",
      "weekday     1.0  3.577193e+06  3.577193e+06  0.954331  0.328944\n",
      "Residual  728.0  2.728818e+09  3.748376e+06       NaN       NaN\n"
     ]
    }
   ],
   "source": [
    "print(tb1)"
   ]
  },
  {
   "cell_type": "markdown",
   "id": "92ca0551-aefe-4a86-b5fb-bff125b38368",
   "metadata": {},
   "source": [
    "Since the pvalue > 0.05 The column weekday does not significantly influences the response column cnt."
   ]
  },
  {
   "cell_type": "markdown",
   "id": "bb628771-b385-4152-958f-2ade4e00622e",
   "metadata": {},
   "source": [
    "# Workingday -> Anova Test to check whether that column has any effects on response cnt"
   ]
  },
  {
   "cell_type": "code",
   "execution_count": 34,
   "id": "8a0d91d4-89d6-4b4d-b24c-57cfc3f18910",
   "metadata": {},
   "outputs": [],
   "source": [
    "mod1 = ols('cnt ~ workingday' ,data=df).fit()"
   ]
  },
  {
   "cell_type": "code",
   "execution_count": 35,
   "id": "569030bf-3703-4c0c-8cd5-38abd32f80f2",
   "metadata": {},
   "outputs": [],
   "source": [
    "tb1 = sm.stats.anova_lm(mod1)"
   ]
  },
  {
   "cell_type": "code",
   "execution_count": 36,
   "id": "47ab05bd-8e51-48bd-a8e5-010b91c152a8",
   "metadata": {},
   "outputs": [
    {
     "name": "stdout",
     "output_type": "stream",
     "text": [
      "               df        sum_sq       mean_sq        F    PR(>F)\n",
      "workingday    1.0  2.087448e+06  2.087448e+06  0.55659  0.455878\n",
      "Residual    728.0  2.730307e+09  3.750422e+06      NaN       NaN\n"
     ]
    }
   ],
   "source": [
    "print(tb1)"
   ]
  },
  {
   "cell_type": "markdown",
   "id": "161c98db-06d2-409b-9d45-4a7f605fd174",
   "metadata": {},
   "source": [
    "Since the pvalue > 0.05 The column workingday does not significantly influences the response column cnt."
   ]
  },
  {
   "cell_type": "code",
   "execution_count": 37,
   "id": "789af90b-bef9-42fd-a9be-1979d4a8630a",
   "metadata": {},
   "outputs": [
    {
     "data": {
      "text/plain": [
       "Index(['season', 'yr', 'mnth', 'holiday', 'weekday', 'workingday',\n",
       "       'weathersit', 'temp', 'hum', 'windspeed', 'cnt'],\n",
       "      dtype='object')"
      ]
     },
     "execution_count": 37,
     "metadata": {},
     "output_type": "execute_result"
    }
   ],
   "source": [
    "df.columns "
   ]
  },
  {
   "cell_type": "code",
   "execution_count": 38,
   "id": "55dcbe52-b23f-449e-a810-cf4416accb28",
   "metadata": {},
   "outputs": [
    {
     "name": "stderr",
     "output_type": "stream",
     "text": [
      "C:\\Users\\HP\\AppData\\Local\\Temp\\ipykernel_9848\\1562325378.py:4: UserWarning: Ignoring `palette` because no `hue` variable has been assigned.\n",
      "  sns.scatterplot(y=df.cnt,x=df.temp,palette='vlag')\n",
      "C:\\Users\\HP\\AppData\\Local\\Temp\\ipykernel_9848\\1562325378.py:7: UserWarning: Ignoring `palette` because no `hue` variable has been assigned.\n",
      "  sns.scatterplot(y=df.cnt,x=df.windspeed,palette='vlag')\n",
      "C:\\Users\\HP\\AppData\\Local\\Temp\\ipykernel_9848\\1562325378.py:10: UserWarning: Ignoring `palette` because no `hue` variable has been assigned.\n",
      "  sns.scatterplot(y=df.cnt,x=df.hum,palette='vlag')\n"
     ]
    },
    {
     "data": {
      "text/plain": [
       "<Axes: xlabel='hum', ylabel='cnt'>"
      ]
     },
     "execution_count": 38,
     "metadata": {},
     "output_type": "execute_result"
    },
    {
     "data": {
      "image/png": "[encoded data removed]",
      "text/plain": [
       "<Figure size 1500x300 with 3 Axes>"
      ]
     },
     "metadata": {},
     "output_type": "display_data"
    }
   ],
   "source": [
    "plt.figure(figsize=(15,3))\n",
    "\n",
    "plt.subplot(1,3,1)\n",
    "sns.scatterplot(y=df.cnt,x=df.temp,palette='vlag')\n",
    "\n",
    "plt.subplot(1,3,2)\n",
    "sns.scatterplot(y=df.cnt,x=df.windspeed,palette='vlag')\n",
    "\n",
    "plt.subplot(1,3,3)\n",
    "sns.scatterplot(y=df.cnt,x=df.hum,palette='vlag')"
   ]
  },
  {
   "cell_type": "markdown",
   "id": "7adaef46-ffdf-4cc8-9708-f09ef5c97046",
   "metadata": {},
   "source": [
    "- Temperature (temp) vs. Count (cnt):\n",
    "A clear positive correlation is observed between temperature and bike rental count.\n",
    "\n",
    "- Windspeed vs. Count (cnt):\n",
    "The relationship between windspeed and bike rentals appears scattered, with no strong correlation.\n",
    "This suggests that windspeed alone does not have a significant impact on bike rentals unless it becomes extreme.\n",
    "\n",
    "- Humidity (hum) vs. Count (cnt):\n",
    " Humidity shows a weak negative correlation with bike rentals."
   ]
  },
  {
   "cell_type": "markdown",
   "id": "9ec3a149-eb6f-4c7d-9223-0225800b046e",
   "metadata": {},
   "source": [
    "# So in conclusion the important attributes are season,weathersit,temp,cnt,yr"
   ]
  },
  {
   "cell_type": "markdown",
   "id": "43bdca8b-b873-45a8-acf5-0b81ffea25fc",
   "metadata": {},
   "source": [
    "Applying model on these attributes taking cnt as response and other attributes as predictors"
   ]
  },
  {
   "cell_type": "code",
   "execution_count": 39,
   "id": "aba6afda-be43-4546-b566-4c315aaba927",
   "metadata": {},
   "outputs": [],
   "source": [
    "df = df[['season','yr','weathersit','cnt','temp']]"
   ]
  },
  {
   "cell_type": "code",
   "execution_count": 40,
   "id": "670a07c5-9e80-4dc3-981f-5ad587b84797",
   "metadata": {},
   "outputs": [
    {
     "data": {
      "text/html": [
       "<div>\n",
       "<style scoped>\n",
       "    .dataframe tbody tr th:only-of-type {\n",
       "        vertical-align: middle;\n",
       "    }\n",
       "\n",
       "    .dataframe tbody tr th {\n",
       "        vertical-align: top;\n",
       "    }\n",
       "\n",
       "    .dataframe thead th {\n",
       "        text-align: right;\n",
       "    }\n",
       "</style>\n",
       "<table border=\"1\" class=\"dataframe\">\n",
       "  <thead>\n",
       "    <tr style=\"text-align: right;\">\n",
       "      <th></th>\n",
       "      <th>season</th>\n",
       "      <th>yr</th>\n",
       "      <th>weathersit</th>\n",
       "      <th>cnt</th>\n",
       "      <th>temp</th>\n",
       "    </tr>\n",
       "  </thead>\n",
       "  <tbody>\n",
       "    <tr>\n",
       "      <th>0</th>\n",
       "      <td>1</td>\n",
       "      <td>0</td>\n",
       "      <td>2</td>\n",
       "      <td>985</td>\n",
       "      <td>14.110847</td>\n",
       "    </tr>\n",
       "    <tr>\n",
       "      <th>1</th>\n",
       "      <td>1</td>\n",
       "      <td>0</td>\n",
       "      <td>2</td>\n",
       "      <td>801</td>\n",
       "      <td>14.902598</td>\n",
       "    </tr>\n",
       "    <tr>\n",
       "      <th>2</th>\n",
       "      <td>1</td>\n",
       "      <td>0</td>\n",
       "      <td>1</td>\n",
       "      <td>1349</td>\n",
       "      <td>8.050924</td>\n",
       "    </tr>\n",
       "    <tr>\n",
       "      <th>3</th>\n",
       "      <td>1</td>\n",
       "      <td>0</td>\n",
       "      <td>1</td>\n",
       "      <td>1562</td>\n",
       "      <td>8.200000</td>\n",
       "    </tr>\n",
       "    <tr>\n",
       "      <th>4</th>\n",
       "      <td>1</td>\n",
       "      <td>0</td>\n",
       "      <td>1</td>\n",
       "      <td>1600</td>\n",
       "      <td>9.305237</td>\n",
       "    </tr>\n",
       "    <tr>\n",
       "      <th>...</th>\n",
       "      <td>...</td>\n",
       "      <td>...</td>\n",
       "      <td>...</td>\n",
       "      <td>...</td>\n",
       "      <td>...</td>\n",
       "    </tr>\n",
       "    <tr>\n",
       "      <th>725</th>\n",
       "      <td>1</td>\n",
       "      <td>1</td>\n",
       "      <td>2</td>\n",
       "      <td>2114</td>\n",
       "      <td>10.420847</td>\n",
       "    </tr>\n",
       "    <tr>\n",
       "      <th>726</th>\n",
       "      <td>1</td>\n",
       "      <td>1</td>\n",
       "      <td>2</td>\n",
       "      <td>3095</td>\n",
       "      <td>10.386653</td>\n",
       "    </tr>\n",
       "    <tr>\n",
       "      <th>727</th>\n",
       "      <td>1</td>\n",
       "      <td>1</td>\n",
       "      <td>2</td>\n",
       "      <td>1341</td>\n",
       "      <td>10.386653</td>\n",
       "    </tr>\n",
       "    <tr>\n",
       "      <th>728</th>\n",
       "      <td>1</td>\n",
       "      <td>1</td>\n",
       "      <td>1</td>\n",
       "      <td>1796</td>\n",
       "      <td>10.489153</td>\n",
       "    </tr>\n",
       "    <tr>\n",
       "      <th>729</th>\n",
       "      <td>1</td>\n",
       "      <td>1</td>\n",
       "      <td>2</td>\n",
       "      <td>2729</td>\n",
       "      <td>8.849153</td>\n",
       "    </tr>\n",
       "  </tbody>\n",
       "</table>\n",
       "<p>730 rows × 5 columns</p>\n",
       "</div>"
      ],
      "text/plain": [
       "     season  yr  weathersit   cnt       temp\n",
       "0         1   0           2   985  14.110847\n",
       "1         1   0           2   801  14.902598\n",
       "2         1   0           1  1349   8.050924\n",
       "3         1   0           1  1562   8.200000\n",
       "4         1   0           1  1600   9.305237\n",
       "..      ...  ..         ...   ...        ...\n",
       "725       1   1           2  2114  10.420847\n",
       "726       1   1           2  3095  10.386653\n",
       "727       1   1           2  1341  10.386653\n",
       "728       1   1           1  1796  10.489153\n",
       "729       1   1           2  2729   8.849153\n",
       "\n",
       "[730 rows x 5 columns]"
      ]
     },
     "execution_count": 40,
     "metadata": {},
     "output_type": "execute_result"
    }
   ],
   "source": [
    "df"
   ]
  },
  {
   "cell_type": "markdown",
   "id": "0edada7d-2279-4bd0-9b3a-4933804f53c7",
   "metadata": {},
   "source": [
    "# Linear Regression on Temp"
   ]
  },
  {
   "cell_type": "code",
   "execution_count": 41,
   "id": "43efcd17-cbf1-42ea-9280-a8616cda67f1",
   "metadata": {},
   "outputs": [
    {
     "data": {
      "text/plain": [
       "PearsonRResult(statistic=0.6270440344135154, pvalue=5.072390953479263e-81)"
      ]
     },
     "execution_count": 41,
     "metadata": {},
     "output_type": "execute_result"
    }
   ],
   "source": [
    "scipy.stats.pearsonr(df.temp,df.cnt)  "
   ]
  },
  {
   "cell_type": "markdown",
   "id": "337e0300-9ca7-4751-ba67-3782d34d37ff",
   "metadata": {},
   "source": [
    "Since pval < 0.05 so the null hypothesis is rejected.So the effect of Temp on cnt is statistically significant. "
   ]
  },
  {
   "cell_type": "code",
   "execution_count": 42,
   "id": "14985045-c051-473f-8ae3-4eb29aeb3b1a",
   "metadata": {},
   "outputs": [
    {
     "data": {
      "text/plain": [
       "array([[1.        , 0.62704403],\n",
       "       [0.62704403, 1.        ]])"
      ]
     },
     "execution_count": 42,
     "metadata": {},
     "output_type": "execute_result"
    }
   ],
   "source": [
    "np.corrcoef(df['temp'],df['cnt']) "
   ]
  },
  {
   "cell_type": "markdown",
   "id": "f5fa2a2e-19ce-4773-92be-bf1faef5e5bf",
   "metadata": {},
   "source": [
    "Since the correlation coefficient is 0.6 which indicates that it is related with count "
   ]
  },
  {
   "cell_type": "code",
   "execution_count": 43,
   "id": "7d02eaeb-a506-4792-9850-1925d472fa45",
   "metadata": {},
   "outputs": [],
   "source": [
    "x_train,x_test,y_train,y_test = train_test_split(df.temp,df.cnt,test_size=0.2,random_state=20)"
   ]
  },
  {
   "cell_type": "code",
   "execution_count": 44,
   "id": "3e1e29f6-9653-437f-8d24-16ada23990ba",
   "metadata": {},
   "outputs": [
    {
     "name": "stdout",
     "output_type": "stream",
     "text": [
      "                            OLS Regression Results                            \n",
      "==============================================================================\n",
      "Dep. Variable:                    cnt   R-squared:                       0.382\n",
      "Model:                            OLS   Adj. R-squared:                  0.381\n",
      "Method:                 Least Squares   F-statistic:                     359.6\n",
      "Date:                Fri, 27 Dec 2024   Prob (F-statistic):           8.48e-63\n",
      "Time:                        08:45:28   Log-Likelihood:                -5109.0\n",
      "No. Observations:                 584   AIC:                         1.022e+04\n",
      "Df Residuals:                     582   BIC:                         1.023e+04\n",
      "Df Model:                           1                                         \n",
      "Covariance Type:            nonrobust                                         \n",
      "==============================================================================\n",
      "                 coef    std err          t      P>|t|      [0.025      0.975]\n",
      "------------------------------------------------------------------------------\n",
      "temp         159.8047      8.427     18.962      0.000     143.253     176.357\n",
      "const       1251.2767    182.365      6.861      0.000     893.102    1609.451\n",
      "==============================================================================\n",
      "Omnibus:                       17.029   Durbin-Watson:                   2.180\n",
      "Prob(Omnibus):                  0.000   Jarque-Bera (JB):               10.353\n",
      "Skew:                           0.167   Prob(JB):                      0.00565\n",
      "Kurtosis:                       2.440   Cond. No.                         62.6\n",
      "==============================================================================\n",
      "\n",
      "Notes:\n",
      "[1] Standard Errors assume that the covariance matrix of the errors is correctly specified.\n"
     ]
    }
   ],
   "source": [
    "x_train = sm.add_constant(x_train,prepend=False) # y = mx+c to consider c const column in the model\n",
    "mod1 = sm.OLS(y_train,x_train).fit()  #ordinary least squared\n",
    "print(mod1.summary())"
   ]
  },
  {
   "cell_type": "markdown",
   "id": "e33994fe-1744-4df3-8be4-1a84f39b99a6",
   "metadata": {},
   "source": [
    "Creating Dummies for every category "
   ]
  },
  {
   "cell_type": "code",
   "execution_count": 45,
   "id": "3e4deeb3-f292-471a-a0c7-1755b92a8679",
   "metadata": {},
   "outputs": [
    {
     "data": {
      "text/plain": [
       "Index(['season', 'yr', 'weathersit', 'cnt', 'temp'], dtype='object')"
      ]
     },
     "execution_count": 45,
     "metadata": {},
     "output_type": "execute_result"
    }
   ],
   "source": [
    "df.columns"
   ]
  },
  {
   "cell_type": "code",
   "execution_count": 46,
   "id": "d7493d0b-a93d-47b3-b90e-42b5c0e4df82",
   "metadata": {},
   "outputs": [
    {
     "data": {
      "text/html": [
       "<div>\n",
       "<style scoped>\n",
       "    .dataframe tbody tr th:only-of-type {\n",
       "        vertical-align: middle;\n",
       "    }\n",
       "\n",
       "    .dataframe tbody tr th {\n",
       "        vertical-align: top;\n",
       "    }\n",
       "\n",
       "    .dataframe thead th {\n",
       "        text-align: right;\n",
       "    }\n",
       "</style>\n",
       "<table border=\"1\" class=\"dataframe\">\n",
       "  <thead>\n",
       "    <tr style=\"text-align: right;\">\n",
       "      <th></th>\n",
       "      <th>yr</th>\n",
       "      <th>weathersit</th>\n",
       "      <th>cnt</th>\n",
       "      <th>temp</th>\n",
       "      <th>season_2</th>\n",
       "      <th>season_3</th>\n",
       "      <th>season_4</th>\n",
       "    </tr>\n",
       "  </thead>\n",
       "  <tbody>\n",
       "    <tr>\n",
       "      <th>0</th>\n",
       "      <td>0</td>\n",
       "      <td>2</td>\n",
       "      <td>985</td>\n",
       "      <td>14.110847</td>\n",
       "      <td>0</td>\n",
       "      <td>0</td>\n",
       "      <td>0</td>\n",
       "    </tr>\n",
       "    <tr>\n",
       "      <th>1</th>\n",
       "      <td>0</td>\n",
       "      <td>2</td>\n",
       "      <td>801</td>\n",
       "      <td>14.902598</td>\n",
       "      <td>0</td>\n",
       "      <td>0</td>\n",
       "      <td>0</td>\n",
       "    </tr>\n",
       "    <tr>\n",
       "      <th>2</th>\n",
       "      <td>0</td>\n",
       "      <td>1</td>\n",
       "      <td>1349</td>\n",
       "      <td>8.050924</td>\n",
       "      <td>0</td>\n",
       "      <td>0</td>\n",
       "      <td>0</td>\n",
       "    </tr>\n",
       "    <tr>\n",
       "      <th>3</th>\n",
       "      <td>0</td>\n",
       "      <td>1</td>\n",
       "      <td>1562</td>\n",
       "      <td>8.200000</td>\n",
       "      <td>0</td>\n",
       "      <td>0</td>\n",
       "      <td>0</td>\n",
       "    </tr>\n",
       "    <tr>\n",
       "      <th>4</th>\n",
       "      <td>0</td>\n",
       "      <td>1</td>\n",
       "      <td>1600</td>\n",
       "      <td>9.305237</td>\n",
       "      <td>0</td>\n",
       "      <td>0</td>\n",
       "      <td>0</td>\n",
       "    </tr>\n",
       "    <tr>\n",
       "      <th>...</th>\n",
       "      <td>...</td>\n",
       "      <td>...</td>\n",
       "      <td>...</td>\n",
       "      <td>...</td>\n",
       "      <td>...</td>\n",
       "      <td>...</td>\n",
       "      <td>...</td>\n",
       "    </tr>\n",
       "    <tr>\n",
       "      <th>725</th>\n",
       "      <td>1</td>\n",
       "      <td>2</td>\n",
       "      <td>2114</td>\n",
       "      <td>10.420847</td>\n",
       "      <td>0</td>\n",
       "      <td>0</td>\n",
       "      <td>0</td>\n",
       "    </tr>\n",
       "    <tr>\n",
       "      <th>726</th>\n",
       "      <td>1</td>\n",
       "      <td>2</td>\n",
       "      <td>3095</td>\n",
       "      <td>10.386653</td>\n",
       "      <td>0</td>\n",
       "      <td>0</td>\n",
       "      <td>0</td>\n",
       "    </tr>\n",
       "    <tr>\n",
       "      <th>727</th>\n",
       "      <td>1</td>\n",
       "      <td>2</td>\n",
       "      <td>1341</td>\n",
       "      <td>10.386653</td>\n",
       "      <td>0</td>\n",
       "      <td>0</td>\n",
       "      <td>0</td>\n",
       "    </tr>\n",
       "    <tr>\n",
       "      <th>728</th>\n",
       "      <td>1</td>\n",
       "      <td>1</td>\n",
       "      <td>1796</td>\n",
       "      <td>10.489153</td>\n",
       "      <td>0</td>\n",
       "      <td>0</td>\n",
       "      <td>0</td>\n",
       "    </tr>\n",
       "    <tr>\n",
       "      <th>729</th>\n",
       "      <td>1</td>\n",
       "      <td>2</td>\n",
       "      <td>2729</td>\n",
       "      <td>8.849153</td>\n",
       "      <td>0</td>\n",
       "      <td>0</td>\n",
       "      <td>0</td>\n",
       "    </tr>\n",
       "  </tbody>\n",
       "</table>\n",
       "<p>730 rows × 7 columns</p>\n",
       "</div>"
      ],
      "text/plain": [
       "     yr  weathersit   cnt       temp  season_2  season_3  season_4\n",
       "0     0           2   985  14.110847         0         0         0\n",
       "1     0           2   801  14.902598         0         0         0\n",
       "2     0           1  1349   8.050924         0         0         0\n",
       "3     0           1  1562   8.200000         0         0         0\n",
       "4     0           1  1600   9.305237         0         0         0\n",
       "..   ..         ...   ...        ...       ...       ...       ...\n",
       "725   1           2  2114  10.420847         0         0         0\n",
       "726   1           2  3095  10.386653         0         0         0\n",
       "727   1           2  1341  10.386653         0         0         0\n",
       "728   1           1  1796  10.489153         0         0         0\n",
       "729   1           2  2729   8.849153         0         0         0\n",
       "\n",
       "[730 rows x 7 columns]"
      ]
     },
     "execution_count": 46,
     "metadata": {},
     "output_type": "execute_result"
    }
   ],
   "source": [
    "ses_dum = pd.get_dummies(df.season , drop_first=True , prefix='season').astype(int)\n",
    "df = df.drop('season' , axis=1)\n",
    "df = pd.concat([df,ses_dum],axis=1)\n",
    "df"
   ]
  },
  {
   "cell_type": "code",
   "execution_count": 47,
   "id": "ad224202-9d86-4849-99ba-f259ff2449e1",
   "metadata": {},
   "outputs": [
    {
     "data": {
      "text/html": [
       "<div>\n",
       "<style scoped>\n",
       "    .dataframe tbody tr th:only-of-type {\n",
       "        vertical-align: middle;\n",
       "    }\n",
       "\n",
       "    .dataframe tbody tr th {\n",
       "        vertical-align: top;\n",
       "    }\n",
       "\n",
       "    .dataframe thead th {\n",
       "        text-align: right;\n",
       "    }\n",
       "</style>\n",
       "<table border=\"1\" class=\"dataframe\">\n",
       "  <thead>\n",
       "    <tr style=\"text-align: right;\">\n",
       "      <th></th>\n",
       "      <th>yr</th>\n",
       "      <th>cnt</th>\n",
       "      <th>temp</th>\n",
       "      <th>season_2</th>\n",
       "      <th>season_3</th>\n",
       "      <th>season_4</th>\n",
       "      <th>weathersit_2</th>\n",
       "      <th>weathersit_3</th>\n",
       "    </tr>\n",
       "  </thead>\n",
       "  <tbody>\n",
       "    <tr>\n",
       "      <th>0</th>\n",
       "      <td>0</td>\n",
       "      <td>985</td>\n",
       "      <td>14.110847</td>\n",
       "      <td>0</td>\n",
       "      <td>0</td>\n",
       "      <td>0</td>\n",
       "      <td>1</td>\n",
       "      <td>0</td>\n",
       "    </tr>\n",
       "    <tr>\n",
       "      <th>1</th>\n",
       "      <td>0</td>\n",
       "      <td>801</td>\n",
       "      <td>14.902598</td>\n",
       "      <td>0</td>\n",
       "      <td>0</td>\n",
       "      <td>0</td>\n",
       "      <td>1</td>\n",
       "      <td>0</td>\n",
       "    </tr>\n",
       "    <tr>\n",
       "      <th>2</th>\n",
       "      <td>0</td>\n",
       "      <td>1349</td>\n",
       "      <td>8.050924</td>\n",
       "      <td>0</td>\n",
       "      <td>0</td>\n",
       "      <td>0</td>\n",
       "      <td>0</td>\n",
       "      <td>0</td>\n",
       "    </tr>\n",
       "    <tr>\n",
       "      <th>3</th>\n",
       "      <td>0</td>\n",
       "      <td>1562</td>\n",
       "      <td>8.200000</td>\n",
       "      <td>0</td>\n",
       "      <td>0</td>\n",
       "      <td>0</td>\n",
       "      <td>0</td>\n",
       "      <td>0</td>\n",
       "    </tr>\n",
       "    <tr>\n",
       "      <th>4</th>\n",
       "      <td>0</td>\n",
       "      <td>1600</td>\n",
       "      <td>9.305237</td>\n",
       "      <td>0</td>\n",
       "      <td>0</td>\n",
       "      <td>0</td>\n",
       "      <td>0</td>\n",
       "      <td>0</td>\n",
       "    </tr>\n",
       "    <tr>\n",
       "      <th>...</th>\n",
       "      <td>...</td>\n",
       "      <td>...</td>\n",
       "      <td>...</td>\n",
       "      <td>...</td>\n",
       "      <td>...</td>\n",
       "      <td>...</td>\n",
       "      <td>...</td>\n",
       "      <td>...</td>\n",
       "    </tr>\n",
       "    <tr>\n",
       "      <th>725</th>\n",
       "      <td>1</td>\n",
       "      <td>2114</td>\n",
       "      <td>10.420847</td>\n",
       "      <td>0</td>\n",
       "      <td>0</td>\n",
       "      <td>0</td>\n",
       "      <td>1</td>\n",
       "      <td>0</td>\n",
       "    </tr>\n",
       "    <tr>\n",
       "      <th>726</th>\n",
       "      <td>1</td>\n",
       "      <td>3095</td>\n",
       "      <td>10.386653</td>\n",
       "      <td>0</td>\n",
       "      <td>0</td>\n",
       "      <td>0</td>\n",
       "      <td>1</td>\n",
       "      <td>0</td>\n",
       "    </tr>\n",
       "    <tr>\n",
       "      <th>727</th>\n",
       "      <td>1</td>\n",
       "      <td>1341</td>\n",
       "      <td>10.386653</td>\n",
       "      <td>0</td>\n",
       "      <td>0</td>\n",
       "      <td>0</td>\n",
       "      <td>1</td>\n",
       "      <td>0</td>\n",
       "    </tr>\n",
       "    <tr>\n",
       "      <th>728</th>\n",
       "      <td>1</td>\n",
       "      <td>1796</td>\n",
       "      <td>10.489153</td>\n",
       "      <td>0</td>\n",
       "      <td>0</td>\n",
       "      <td>0</td>\n",
       "      <td>0</td>\n",
       "      <td>0</td>\n",
       "    </tr>\n",
       "    <tr>\n",
       "      <th>729</th>\n",
       "      <td>1</td>\n",
       "      <td>2729</td>\n",
       "      <td>8.849153</td>\n",
       "      <td>0</td>\n",
       "      <td>0</td>\n",
       "      <td>0</td>\n",
       "      <td>1</td>\n",
       "      <td>0</td>\n",
       "    </tr>\n",
       "  </tbody>\n",
       "</table>\n",
       "<p>730 rows × 8 columns</p>\n",
       "</div>"
      ],
      "text/plain": [
       "     yr   cnt       temp  season_2  season_3  season_4  weathersit_2  \\\n",
       "0     0   985  14.110847         0         0         0             1   \n",
       "1     0   801  14.902598         0         0         0             1   \n",
       "2     0  1349   8.050924         0         0         0             0   \n",
       "3     0  1562   8.200000         0         0         0             0   \n",
       "4     0  1600   9.305237         0         0         0             0   \n",
       "..   ..   ...        ...       ...       ...       ...           ...   \n",
       "725   1  2114  10.420847         0         0         0             1   \n",
       "726   1  3095  10.386653         0         0         0             1   \n",
       "727   1  1341  10.386653         0         0         0             1   \n",
       "728   1  1796  10.489153         0         0         0             0   \n",
       "729   1  2729   8.849153         0         0         0             1   \n",
       "\n",
       "     weathersit_3  \n",
       "0               0  \n",
       "1               0  \n",
       "2               0  \n",
       "3               0  \n",
       "4               0  \n",
       "..            ...  \n",
       "725             0  \n",
       "726             0  \n",
       "727             0  \n",
       "728             0  \n",
       "729             0  \n",
       "\n",
       "[730 rows x 8 columns]"
      ]
     },
     "execution_count": 47,
     "metadata": {},
     "output_type": "execute_result"
    }
   ],
   "source": [
    "wet_dum = pd.get_dummies(df.weathersit , drop_first=True , prefix='weathersit').astype(int)\n",
    "df = df.drop('weathersit' , axis=1)\n",
    "df = pd.concat([df,wet_dum],axis=1)\n",
    "df"
   ]
  },
  {
   "cell_type": "code",
   "execution_count": 48,
   "id": "b701ca4c-5a6f-4b01-9c77-87e19a78e274",
   "metadata": {},
   "outputs": [
    {
     "data": {
      "text/html": [
       "<div>\n",
       "<style scoped>\n",
       "    .dataframe tbody tr th:only-of-type {\n",
       "        vertical-align: middle;\n",
       "    }\n",
       "\n",
       "    .dataframe tbody tr th {\n",
       "        vertical-align: top;\n",
       "    }\n",
       "\n",
       "    .dataframe thead th {\n",
       "        text-align: right;\n",
       "    }\n",
       "</style>\n",
       "<table border=\"1\" class=\"dataframe\">\n",
       "  <thead>\n",
       "    <tr style=\"text-align: right;\">\n",
       "      <th></th>\n",
       "      <th>cnt</th>\n",
       "      <th>temp</th>\n",
       "      <th>season_2</th>\n",
       "      <th>season_3</th>\n",
       "      <th>season_4</th>\n",
       "      <th>weathersit_2</th>\n",
       "      <th>weathersit_3</th>\n",
       "      <th>yr_1</th>\n",
       "    </tr>\n",
       "  </thead>\n",
       "  <tbody>\n",
       "    <tr>\n",
       "      <th>0</th>\n",
       "      <td>985</td>\n",
       "      <td>14.110847</td>\n",
       "      <td>0</td>\n",
       "      <td>0</td>\n",
       "      <td>0</td>\n",
       "      <td>1</td>\n",
       "      <td>0</td>\n",
       "      <td>0</td>\n",
       "    </tr>\n",
       "    <tr>\n",
       "      <th>1</th>\n",
       "      <td>801</td>\n",
       "      <td>14.902598</td>\n",
       "      <td>0</td>\n",
       "      <td>0</td>\n",
       "      <td>0</td>\n",
       "      <td>1</td>\n",
       "      <td>0</td>\n",
       "      <td>0</td>\n",
       "    </tr>\n",
       "    <tr>\n",
       "      <th>2</th>\n",
       "      <td>1349</td>\n",
       "      <td>8.050924</td>\n",
       "      <td>0</td>\n",
       "      <td>0</td>\n",
       "      <td>0</td>\n",
       "      <td>0</td>\n",
       "      <td>0</td>\n",
       "      <td>0</td>\n",
       "    </tr>\n",
       "    <tr>\n",
       "      <th>3</th>\n",
       "      <td>1562</td>\n",
       "      <td>8.200000</td>\n",
       "      <td>0</td>\n",
       "      <td>0</td>\n",
       "      <td>0</td>\n",
       "      <td>0</td>\n",
       "      <td>0</td>\n",
       "      <td>0</td>\n",
       "    </tr>\n",
       "    <tr>\n",
       "      <th>4</th>\n",
       "      <td>1600</td>\n",
       "      <td>9.305237</td>\n",
       "      <td>0</td>\n",
       "      <td>0</td>\n",
       "      <td>0</td>\n",
       "      <td>0</td>\n",
       "      <td>0</td>\n",
       "      <td>0</td>\n",
       "    </tr>\n",
       "    <tr>\n",
       "      <th>...</th>\n",
       "      <td>...</td>\n",
       "      <td>...</td>\n",
       "      <td>...</td>\n",
       "      <td>...</td>\n",
       "      <td>...</td>\n",
       "      <td>...</td>\n",
       "      <td>...</td>\n",
       "      <td>...</td>\n",
       "    </tr>\n",
       "    <tr>\n",
       "      <th>725</th>\n",
       "      <td>2114</td>\n",
       "      <td>10.420847</td>\n",
       "      <td>0</td>\n",
       "      <td>0</td>\n",
       "      <td>0</td>\n",
       "      <td>1</td>\n",
       "      <td>0</td>\n",
       "      <td>1</td>\n",
       "    </tr>\n",
       "    <tr>\n",
       "      <th>726</th>\n",
       "      <td>3095</td>\n",
       "      <td>10.386653</td>\n",
       "      <td>0</td>\n",
       "      <td>0</td>\n",
       "      <td>0</td>\n",
       "      <td>1</td>\n",
       "      <td>0</td>\n",
       "      <td>1</td>\n",
       "    </tr>\n",
       "    <tr>\n",
       "      <th>727</th>\n",
       "      <td>1341</td>\n",
       "      <td>10.386653</td>\n",
       "      <td>0</td>\n",
       "      <td>0</td>\n",
       "      <td>0</td>\n",
       "      <td>1</td>\n",
       "      <td>0</td>\n",
       "      <td>1</td>\n",
       "    </tr>\n",
       "    <tr>\n",
       "      <th>728</th>\n",
       "      <td>1796</td>\n",
       "      <td>10.489153</td>\n",
       "      <td>0</td>\n",
       "      <td>0</td>\n",
       "      <td>0</td>\n",
       "      <td>0</td>\n",
       "      <td>0</td>\n",
       "      <td>1</td>\n",
       "    </tr>\n",
       "    <tr>\n",
       "      <th>729</th>\n",
       "      <td>2729</td>\n",
       "      <td>8.849153</td>\n",
       "      <td>0</td>\n",
       "      <td>0</td>\n",
       "      <td>0</td>\n",
       "      <td>1</td>\n",
       "      <td>0</td>\n",
       "      <td>1</td>\n",
       "    </tr>\n",
       "  </tbody>\n",
       "</table>\n",
       "<p>730 rows × 8 columns</p>\n",
       "</div>"
      ],
      "text/plain": [
       "      cnt       temp  season_2  season_3  season_4  weathersit_2  \\\n",
       "0     985  14.110847         0         0         0             1   \n",
       "1     801  14.902598         0         0         0             1   \n",
       "2    1349   8.050924         0         0         0             0   \n",
       "3    1562   8.200000         0         0         0             0   \n",
       "4    1600   9.305237         0         0         0             0   \n",
       "..    ...        ...       ...       ...       ...           ...   \n",
       "725  2114  10.420847         0         0         0             1   \n",
       "726  3095  10.386653         0         0         0             1   \n",
       "727  1341  10.386653         0         0         0             1   \n",
       "728  1796  10.489153         0         0         0             0   \n",
       "729  2729   8.849153         0         0         0             1   \n",
       "\n",
       "     weathersit_3  yr_1  \n",
       "0               0     0  \n",
       "1               0     0  \n",
       "2               0     0  \n",
       "3               0     0  \n",
       "4               0     0  \n",
       "..            ...   ...  \n",
       "725             0     1  \n",
       "726             0     1  \n",
       "727             0     1  \n",
       "728             0     1  \n",
       "729             0     1  \n",
       "\n",
       "[730 rows x 8 columns]"
      ]
     },
     "execution_count": 48,
     "metadata": {},
     "output_type": "execute_result"
    }
   ],
   "source": [
    "yr_dum = pd.get_dummies(df.yr , drop_first=True , prefix='yr').astype(int)\n",
    "df = df.drop('yr' , axis=1)\n",
    "df = pd.concat([df,yr_dum],axis=1)\n",
    "df"
   ]
  },
  {
   "cell_type": "code",
   "execution_count": 49,
   "id": "b67a26d6-4794-43ef-a5e3-1eab942accb6",
   "metadata": {},
   "outputs": [
    {
     "name": "stdout",
     "output_type": "stream",
     "text": [
      "Optimization terminated successfully.\n",
      "         Current function value: 104.026762\n",
      "         Iterations 6\n",
      "                          Poisson Regression Results                          \n",
      "==============================================================================\n",
      "Dep. Variable:                    cnt   No. Observations:                  584\n",
      "Model:                        Poisson   Df Residuals:                      576\n",
      "Method:                           MLE   Df Model:                            7\n",
      "Date:                Fri, 27 Dec 2024   Pseudo R-squ.:                  0.7757\n",
      "Time:                        08:45:28   Log-Likelihood:                -60752.\n",
      "converged:                       True   LL-Null:                   -2.7081e+05\n",
      "Covariance Type:            nonrobust   LLR p-value:                     0.000\n",
      "================================================================================\n",
      "                   coef    std err          z      P>|z|      [0.025      0.975]\n",
      "--------------------------------------------------------------------------------\n",
      "Intercept        7.3103      0.003   2680.225      0.000       7.305       7.316\n",
      "temp             0.0275      0.000    181.106      0.000       0.027       0.028\n",
      "season_2         0.3747      0.003    143.885      0.000       0.370       0.380\n",
      "season_3         0.3142      0.003     98.105      0.000       0.308       0.321\n",
      "season_4         0.4872      0.002    220.962      0.000       0.483       0.492\n",
      "weathersit_2    -0.1377      0.001   -101.031      0.000      -0.140      -0.135\n",
      "weathersit_3    -0.8293      0.005   -154.860      0.000      -0.840      -0.819\n",
      "yr_1             0.4650      0.001    365.464      0.000       0.463       0.468\n",
      "================================================================================\n"
     ]
    }
   ],
   "source": [
    "x_train,x_test,y_train,y_test = train_test_split(df.drop('cnt',axis=1),df.cnt,test_size=0.2,random_state=20)\n",
    "x_train=sm.add_constant(x_train,prepend=False)\n",
    "df_train = pd.concat([x_train,y_train],axis=1)\n",
    "mod1 = psn.from_formula('cnt ~ temp+season_2+season_3+season_4+weathersit_2+weathersit_3+yr_1',data=df_train).fit()  \n",
    "print(mod1.summary())"
   ]
  },
  {
   "cell_type": "markdown",
   "id": "fc2c9ae5-ec62-448b-9d96-7f826e74f4b7",
   "metadata": {},
   "source": [
    "<h3>Temperature</h3>\n",
    "Ho = temp does not influence the cnt  m1 = 0\n",
    "\n",
    "pval = 0  < 0.05 so we reject the null hypothesis.\n",
    "So , temperature influences count of total rental bikes\n",
    "So if temperature increases the probability of count of total rental bikes also increases\n",
    "\n",
    "<h3>Season</h3>\n",
    "Ho = When season changes from 1 to season 2 the it does not influence the count of total rental bikes m2 = 0\n",
    "\n",
    "pval = 0  < 0.05 so we reject the null hypothesis.\n",
    "So , When season changes from 1 to season 2 then it influences count of total rental bikes\n",
    "coef is positive \n",
    "So , When season changes from 1 to season 2 then probability/ change in the log of odds ratio will increases\n",
    "\n",
    "Ho = When season changes from 1 to season 3 then it does not influence the count of total rental bikes m3 = 0\n",
    "\n",
    "pval = 0 < 0.05 so we reject the null hypothesis.\n",
    "So , When season changes from 1 to season 3 then it influences count of total rental bikes\n",
    "coef is positive \n",
    "So , When season changes from 1 to season 3 then probability/ change in the log of odds ratio will increases\n",
    "\n",
    "Ho = When season changes from 1 to season 4 then it does not influence the count of total rental bikes m4 = 0\n",
    "\n",
    "pval = 0 < 0.05 so we reject the null hypothesis.\n",
    "So , When season changes from 1 to season 4 then it influences count of total rental bikes\n",
    "coef is positive \n",
    "So , When season changes from 1 to season 4 then probability/ change in the log of odds ratio will increases\n",
    "\n",
    "<h3>Weather Split</h3>\n",
    "\n",
    "Ho = When weather situation changes from 1 to weather situation 2 the it does not influence the count of total rental bikes m5 = 0\n",
    "\n",
    "pval = 0  < 0.05 so we reject the null hypothesis.\n",
    "So , When weather situation changes from 1 to weather situation 2 then it influences count of total rental bikes\n",
    "coef is negative \n",
    "So , When weather situation changes from 1 to weather situation 2 then probability/ change in the log of odds ratio will decrease and will change by m5\n",
    "\n",
    "Ho = When weather situation changes from 1 to weather situation 3 the it does not influence the count of total rental bikes m6 = 0\n",
    "\n",
    "pval = 0  < 0.05 so we reject the null hypothesis.\n",
    "So , When weather situation changes from 1 to weather situation 3 then it influences count of total rental bikes\n",
    "coef is negative \n",
    "So , When weather situation changes from 1 to weather situation 3 then probability/ change in the log of odds ratio will decrease and will change by m6\n",
    "\n",
    "<h3>Year</h3>\n",
    "Ho = When year changes from 1 to year 2 the it does not influence the count of total rental bikes m7 = 0\n",
    "\n",
    "pval = 0  < 0.05 so we reject the null hypothesis.\n",
    "So , When year changes from 1 to year 2 then it influences count of total rental bikes\n",
    "coef is positive \n",
    "So , When year changes from 1 to year 2 then probability/ change in the log of odds ratio will increases"
   ]
  },
  {
   "cell_type": "code",
   "execution_count": 50,
   "id": "65ce6ae1-2978-4d5d-a3e2-a094018d565d",
   "metadata": {},
   "outputs": [
    {
     "name": "stdout",
     "output_type": "stream",
     "text": [
      "Predicted:\n",
      " 283    4017.0\n",
      "453    4579.0\n",
      "266    4202.0\n",
      "269    4347.0\n",
      "120    3153.0\n",
      "dtype: float64\n",
      "Actual:\n",
      " 283    4563\n",
      "453    5459\n",
      "266    5423\n",
      "269    4120\n",
      "120    3351\n",
      "Name: cnt, dtype: int64\n"
     ]
    }
   ],
   "source": [
    "y_pred = np.round(mod1.predict(x_test),0)\n",
    "print(\"Predicted:\\n\",y_pred.head()) # predicted\n",
    "print(\"Actual:\\n\",y_test.head()) # actual"
   ]
  },
  {
   "cell_type": "code",
   "execution_count": 51,
   "id": "2a10a460-1a92-45e7-bfe3-307b51572b58",
   "metadata": {},
   "outputs": [
    {
     "name": "stdout",
     "output_type": "stream",
     "text": [
      "0.0\n"
     ]
    }
   ],
   "source": [
    "from sklearn.metrics import accuracy_score\n",
    "accuracy = accuracy_score(y_test,y_pred)\n",
    "print(accuracy)"
   ]
  },
  {
   "cell_type": "code",
   "execution_count": 52,
   "id": "057158ad-628d-4119-bcc5-899c456bf1d5",
   "metadata": {},
   "outputs": [
    {
     "data": {
      "text/plain": [
       "(146,)"
      ]
     },
     "execution_count": 52,
     "metadata": {},
     "output_type": "execute_result"
    }
   ],
   "source": [
    "y_pred.shape"
   ]
  },
  {
   "cell_type": "code",
   "execution_count": 53,
   "id": "c3a7affa-ab85-4a99-9079-25e563ab5426",
   "metadata": {},
   "outputs": [
    {
     "data": {
      "text/plain": [
       "(146,)"
      ]
     },
     "execution_count": 53,
     "metadata": {},
     "output_type": "execute_result"
    }
   ],
   "source": [
    "y_test.shape"
   ]
  },
  {
   "cell_type": "markdown",
   "id": "8869a12c-20f1-4435-b59b-172955f0a756",
   "metadata": {},
   "source": [
    "<h2>To quantify model performance</h2>"
   ]
  },
  {
   "cell_type": "code",
   "execution_count": 57,
   "id": "d7dc77c0-854b-4f0e-bc60-8dc249099dbc",
   "metadata": {},
   "outputs": [
    {
     "name": "stdout",
     "output_type": "stream",
     "text": [
      "Mean Absolute Error (MAE): 626.5189862079328\n",
      "Mean Squared Error (MSE): 735676.3352804683\n",
      "R² Score: 0.7997\n"
     ]
    }
   ],
   "source": [
    "from sklearn.metrics import mean_absolute_error, mean_squared_error, r2_score\n",
    "\n",
    "# Add a constant to the test data as required by statsmodels\n",
    "x_test = sm.add_constant(x_test, prepend=False)\n",
    "\n",
    "# Predict using the Poisson regression model\n",
    "y_pred = mod1.predict(x_test)\n",
    "\n",
    "# Calculate MAE\n",
    "mae = mean_absolute_error(y_test, y_pred)\n",
    "\n",
    "# Calculate MSE\n",
    "mse = mean_squared_error(y_test, y_pred)\n",
    "\n",
    "# Calculate R² Score\n",
    "r2 = np.round(r2_score(y_test,y_pred),4)\n",
    "\n",
    "print(f\"Mean Absolute Error (MAE): {mae}\")\n",
    "print(f\"Mean Squared Error (MSE): {mse}\")\n",
    "print(f\"R² Score: {r2}\")\n"
   ]
  },
  {
   "cell_type": "code",
   "execution_count": 58,
   "id": "c10deedd-82ce-4d3c-a073-304e8b57e453",
   "metadata": {},
   "outputs": [
    {
     "data": {
      "text/plain": [
       "<Axes: xlabel='cnt'>"
      ]
     },
     "execution_count": 58,
     "metadata": {},
     "output_type": "execute_result"
    },
    {
     "data": {
      "image/png": "[encoded data removed]",
      "text/plain": [
       "<Figure size 640x480 with 1 Axes>"
      ]
     },
     "metadata": {},
     "output_type": "display_data"
    }
   ],
   "source": [
    "sns.regplot(x=y_test,y=y_pred,line_kws={'color' : 'black'},scatter_kws={'s' : 25,'color' : '#D28A8C'})"
   ]
  },
  {
   "cell_type": "markdown",
   "id": "1393e18b-1b4b-4615-8958-4649c3b6b516",
   "metadata": {},
   "source": [
    "The alignment of the data points along the regression line indicates that the model performs well in predicting y_test values. The close proximity of points to the line suggests minimal error in predictions.\n",
    "\n",
    "The overall tight clustering of points near the line implies that your regression model captures the relationship between the dependent and independent variables well.\n",
    "\n",
    "The diagonal nature of the regression line (y = x) shows that as the actual values (y_test) increase, the predicted values (y_pred) also increase proportionally.\n",
    "\n",
    "Need to perform residual diagnostics to understand how well the model generalizes. Look for patterns in residuals, as a random scatter suggests good performance."
   ]
  },
  {
   "cell_type": "code",
   "execution_count": 59,
   "id": "74303f0a-a95f-4fa5-a22b-04ce522b89f2",
   "metadata": {},
   "outputs": [
    {
     "name": "stdout",
     "output_type": "stream",
     "text": [
      "                            OLS Regression Results                            \n",
      "==============================================================================\n",
      "Dep. Variable:                    cnt   R-squared:                       0.799\n",
      "Model:                            OLS   Adj. R-squared:                  0.797\n",
      "Method:                 Least Squares   F-statistic:                     327.9\n",
      "Date:                Fri, 27 Dec 2024   Prob (F-statistic):          2.88e-196\n",
      "Time:                        08:53:56   Log-Likelihood:                -4780.4\n",
      "No. Observations:                 584   AIC:                             9577.\n",
      "Df Residuals:                     576   BIC:                             9612.\n",
      "Df Model:                           7                                         \n",
      "Covariance Type:            nonrobust                                         \n",
      "================================================================================\n",
      "                   coef    std err          t      P>|t|      [0.025      0.975]\n",
      "--------------------------------------------------------------------------------\n",
      "temp           114.8940      8.631     13.311      0.000      97.941     131.847\n",
      "season_2      1224.7977    137.062      8.936      0.000     955.596    1493.999\n",
      "season_3      1076.0561    177.728      6.055      0.000     726.983    1425.129\n",
      "season_4      1603.8092    113.364     14.147      0.000    1381.152    1826.466\n",
      "weathersit_2  -634.4204     77.938     -8.140      0.000    -787.497    -481.344\n",
      "weathersit_3 -2408.3061    203.123    -11.856      0.000   -2807.258   -2009.354\n",
      "yr_1          2048.4180     72.720     28.169      0.000    1905.590    2191.246\n",
      "const          453.5290    135.960      3.336      0.001     186.492     720.566\n",
      "==============================================================================\n",
      "Omnibus:                       87.036   Durbin-Watson:                   1.979\n",
      "Prob(Omnibus):                  0.000   Jarque-Bera (JB):              173.382\n",
      "Skew:                          -0.850   Prob(JB):                     2.24e-38\n",
      "Kurtosis:                       5.057   Cond. No.                         139.\n",
      "==============================================================================\n",
      "\n",
      "Notes:\n",
      "[1] Standard Errors assume that the covariance matrix of the errors is correctly specified.\n",
      "Predicted:\n",
      " 283    4092.290496\n",
      "453    4835.266517\n",
      "266    4280.716701\n",
      "269    4422.036355\n",
      "120    3171.553637\n",
      "dtype: float64\n",
      "Actual:\n",
      " 283    4563\n",
      "453    5459\n",
      "266    5423\n",
      "269    4120\n",
      "120    3351\n",
      "Name: cnt, dtype: int64\n"
     ]
    }
   ],
   "source": [
    "x_train,x_test,y_train,y_test = train_test_split(df.drop('cnt',axis=1),df.cnt,test_size=0.2,random_state=20)\n",
    "x_train = sm.add_constant(x_train,prepend=False) # y = mx+c to consider c const column in the model\n",
    "mod1 = sm.OLS(y_train,x_train).fit()  #ordinary least squared\n",
    "print(mod1.summary())\n",
    "# for x test \n",
    "x_test = sm.add_constant(x_test,prepend=False)\n",
    "y_pred = mod1.predict(x_test)\n",
    "print(\"Predicted:\\n\",y_pred.head()) # predicted\n",
    "print(\"Actual:\\n\",y_test.head()) # actual"
   ]
  },
  {
   "cell_type": "markdown",
   "id": "f946ba07-f82f-451a-a0ed-fd1abac22552",
   "metadata": {},
   "source": [
    "# Conclusion"
   ]
  },
  {
   "cell_type": "markdown",
   "id": "ed74ad30-82c3-4ab9-864f-f2a4dceacbf7",
   "metadata": {},
   "source": [
    "Bike demand is influenced is by features like season , year , weather situation affects count of total rental bikes including both casual and registered\r\n",
    "\n",
    "Features such as season and year is strongly positive co-related beacuse when season and year increases count of total rental bikes including both casual and registered also increases\n",
    "\n",
    "\n",
    "Features such as weather situation is strongly negative co-related because when the weather situation increases count of total rental bikes including both casual and registered\r\n",
    "\n"
   ]
  }
 ],
 "metadata": {
  "kernelspec": {
   "display_name": "Python 3 (ipykernel)",
   "language": "python",
   "name": "python3"
  },
  "language_info": {
   "codemirror_mode": {
    "name": "ipython",
    "version": 3
   },
   "file_extension": ".py",
   "mimetype": "text/x-python",
   "name": "python",
   "nbconvert_exporter": "python",
   "pygments_lexer": "ipython3",
   "version": "3.12.4"
  }
 },
 "nbformat": 4,
 "nbformat_minor": 5
}
